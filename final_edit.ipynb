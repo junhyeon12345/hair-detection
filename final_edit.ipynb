{
 "cells": [
  {
   "attachments": {},
   "cell_type": "markdown",
   "metadata": {},
   "source": [
    "# Log\n",
    "- Written by Junhyeon Kang / email: junhyeon@tesser.co.kr\n",
    "- Written date: 20230711\n"
   ]
  },
  {
   "attachments": {},
   "cell_type": "markdown",
   "metadata": {},
   "source": [
    "---------"
   ]
  },
  {
   "attachments": {},
   "cell_type": "markdown",
   "metadata": {},
   "source": [
    "# Code Description\n",
    "- Edits common errors in hair annotation XML-files"
   ]
  },
  {
   "attachments": {},
   "cell_type": "markdown",
   "metadata": {},
   "source": [
    "-------"
   ]
  },
  {
   "attachments": {},
   "cell_type": "markdown",
   "metadata": {},
   "source": [
    "# Code Flow\n",
    "- Load annotation data\n",
    "- Resize and square pores\n",
    "- Make all hair boxes rectangular\n",
    "- Check for Truncated\n",
    "- Check for correct rotation\n",
    "- Delete empty pores, Mark unmatched hairs\n",
    "- Cluster into nearby hair boxes\n",
    "- Check for repetitive boxes\n",
    "- Check for iscrowd\n",
    "- Create histograms of different types of errors\n",
    "- Write to new edited XML-file"
   ]
  },
  {
   "attachments": {},
   "cell_type": "markdown",
   "metadata": {},
   "source": [
    "------------"
   ]
  },
  {
   "attachments": {},
   "cell_type": "markdown",
   "metadata": {},
   "source": [
    "# Package Import"
   ]
  },
  {
   "cell_type": "code",
   "execution_count": 559,
   "metadata": {},
   "outputs": [],
   "source": [
    "import xml.etree.ElementTree as ET\n",
    "import os, shutil\n",
    "import math\n",
    "import matplotlib.pyplot as plt\n",
    "import numpy as np\n",
    "from shapely import Polygon"
   ]
  },
  {
   "cell_type": "code",
   "execution_count": 560,
   "metadata": {},
   "outputs": [
    {
     "data": {
      "text/plain": [
       "<Element 'annotations' at 0x000002B199ED7D80>"
      ]
     },
     "execution_count": 560,
     "metadata": {},
     "output_type": "execute_result"
    }
   ],
   "source": [
    "finaltree = ET.parse('C:/Users/junhy/Documents/vscode/grt_batch1.xml')\n",
    "finalroot = finaltree.getroot()\n",
    "finalroot"
   ]
  },
  {
   "attachments": {},
   "cell_type": "markdown",
   "metadata": {},
   "source": [
    "-----"
   ]
  },
  {
   "attachments": {},
   "cell_type": "markdown",
   "metadata": {},
   "source": [
    "# Util Functions"
   ]
  },
  {
   "cell_type": "code",
   "execution_count": 561,
   "metadata": {},
   "outputs": [],
   "source": [
    "def actual_coord(box):\n",
    "    degree_angle = float(box.attrib['rotation'])\n",
    "    angle = degree_angle/180 * math.pi\n",
    "    w = float(box.attrib['xbr']) - float(box.attrib['xtl'])\n",
    "    h = -(float(box.attrib['ytl']) - float(box.attrib['ybr'])) # origin at top left corner\n",
    "    cx = float(box.attrib['xbr']) - w/2\n",
    "    cy = float(box.attrib['ybr']) - h/2\n",
    "    x1 = cx + (w / 2) * math.cos(angle) - (h / 2) * math.sin(angle)\n",
    "    y1 = cy + (w / 2) * math.sin(angle) + (h / 2) * math.cos(angle)\n",
    "    x2 = cx - (w / 2) * math.cos(angle) - (h / 2) * math.sin(angle)\n",
    "    y2 = cy - (w / 2) * math.sin(angle) + (h / 2) * math.cos(angle)\n",
    "    x3 = cx - (w / 2) * math.cos(angle) + (h / 2) * math.sin(angle)\n",
    "    y3 = cy - (w / 2) * math.sin(angle) - (h / 2) * math.cos(angle)\n",
    "    x4 = cx + (w / 2) * math.cos(angle) + (h / 2) * math.sin(angle)\n",
    "    y4 = cy + (w / 2) * math.sin(angle) - (h / 2) * math.cos(angle)\n",
    "\n",
    "    return cx,cy,x1,y1,x2,y2,x3,y3,x4,y4"
   ]
  },
  {
   "cell_type": "code",
   "execution_count": 562,
   "metadata": {},
   "outputs": [],
   "source": [
    "def in_pore(target_coordinate, box):\n",
    "    # target_coordinate in (x,y) format\n",
    "    if float(box.attrib['xtl']) < target_coordinate[0] < float(box.attrib['xbr']):\n",
    "        if float(box.attrib['ytl']) < target_coordinate[1] < float(box.attrib['ybr']):\n",
    "            return True\n",
    "    return False"
   ]
  },
  {
   "cell_type": "code",
   "execution_count": 563,
   "metadata": {},
   "outputs": [],
   "source": [
    "def centroidof(box):\n",
    "    x = (float(box.attrib['xbr']) + float(box.attrib['xtl'])) / 2\n",
    "    y = (float(box.attrib['ybr']) + float(box.attrib['ytl'])) / 2\n",
    "    return (x,y)"
   ]
  },
  {
   "cell_type": "code",
   "execution_count": 564,
   "metadata": {},
   "outputs": [],
   "source": [
    "def are_neighbors(point1, point2):\n",
    "    '''\n",
    "    Inputs: tuples (x coordinate, y coordinate)\n",
    "    Returns: Boolean whether the two points are close\n",
    "    '''\n",
    "    xdist = point1[0] - point2[0]\n",
    "    ydist = point1[1] - point2[1]\n",
    "    dist = math.sqrt(xdist**2 + ydist**2)\n",
    "    \n",
    "    return dist < 120"
   ]
  },
  {
   "cell_type": "code",
   "execution_count": 565,
   "metadata": {},
   "outputs": [],
   "source": [
    "def are_same(box1, box2):\n",
    "    '''\n",
    "    Inputs: two boxes\n",
    "    Returns: whether the two boxes are nearly same\n",
    "    '''\n",
    "    w1 = float(box1.attrib['xbr']) - float(box1.attrib['xtl'])\n",
    "    h1 = -(float(box1.attrib['ytl']) - float(box1.attrib['ybr'])) # origin at top left corner\n",
    "    cx1 = float(box1.attrib['xbr']) - w1/2\n",
    "    cy1 = float(box1.attrib['ybr']) - h1/2\n",
    "    w2 = float(box2.attrib['xbr']) - float(box2.attrib['xtl'])\n",
    "    h2 = -(float(box2.attrib['ytl']) - float(box2.attrib['ybr'])) # origin at top left corner\n",
    "    cx2 = float(box2.attrib['xbr']) - w2/2\n",
    "    cy2 = float(box2.attrib['ybr']) - h2/2    \n",
    "    \n",
    "    cdist = math.sqrt((cx1-cx2)**2 + (cy1-cy2)**2)\n",
    "\n",
    "    if cdist < 3:\n",
    "        if float(box1.attrib['rotation']) - 8 < float(box2.attrib['rotation']) < float(box1.attrib['rotation']) + 8:\n",
    "            return True\n",
    "    return False"
   ]
  },
  {
   "cell_type": "code",
   "execution_count": 566,
   "metadata": {},
   "outputs": [],
   "source": [
    "def overlap(box1, box2):\n",
    "    '''\n",
    "    Inputs: two boxes\n",
    "    Returns: whether the two boxes overlap\n",
    "    '''\n",
    "    _,_,x1,y1,x2,y2,x3,y3,x4,y4 = actual_coord(box1)\n",
    "    polygon1 = Polygon([(x1,y1), (x2,y2), (x3,y3), (x4,y4)])\n",
    "\n",
    "    _,_,x1,y1,x2,y2,x3,y3,x4,y4 = actual_coord(box2)\n",
    "    polygon2 = Polygon([(x1,y1), (x2,y2), (x3,y3), (x4,y4)])\n",
    "\n",
    "    \n",
    "    # return polygon1.intersection(polygon2).area > 0\n",
    "    return polygon1.intersects(polygon2)"
   ]
  },
  {
   "attachments": {},
   "cell_type": "markdown",
   "metadata": {},
   "source": [
    "-------------"
   ]
  },
  {
   "attachments": {},
   "cell_type": "markdown",
   "metadata": {},
   "source": [
    "### Histogram data"
   ]
  },
  {
   "cell_type": "code",
   "execution_count": 567,
   "metadata": {},
   "outputs": [],
   "source": [
    "imageswitherror = []\n",
    "\n",
    "imageswith_rectangleerror = []\n",
    "imageswith_truncatederror = []\n",
    "imageswith_rotationerror = []\n",
    "imageswith_unmatchederror = []\n",
    "imageswith_repetitionerror = []\n",
    "imageswith_iscrowderror = []\n"
   ]
  },
  {
   "attachments": {},
   "cell_type": "markdown",
   "metadata": {},
   "source": [
    "------------"
   ]
  },
  {
   "attachments": {},
   "cell_type": "markdown",
   "metadata": {},
   "source": [
    "# Square Pores between 20 and 40"
   ]
  },
  {
   "cell_type": "code",
   "execution_count": 568,
   "metadata": {},
   "outputs": [],
   "source": [
    "final_image_list = finalroot.findall('image')\n",
    "\n",
    "for image in final_image_list:\n",
    "    box_list = image.findall('box')\n",
    "    for box in box_list:\n",
    "        # print(box.attrib)\n",
    "        \n",
    "        if box.attrib['label'] == 'pore':\n",
    "            box.attrib['rotation'] = '0.0'\n",
    "            \n",
    "            boxwidth = float(box.attrib['xbr']) - float(box.attrib['xtl'])\n",
    "            boxheight = - float(box.attrib['ytl']) + float(box.attrib['ybr'])\n",
    "            maxdim = min(max(boxwidth, boxheight, 20), 40) # keep max dim of rectangle, but within boundaries 20 ~ 40\n",
    "            \n",
    "            width_change = maxdim - boxwidth\n",
    "            height_change = maxdim - boxheight\n",
    "\n",
    "            box.attrib['xbr'] = str(float(box.attrib['xbr']) + width_change / 2)\n",
    "            box.attrib['xtl'] = str(float(box.attrib['xtl']) - width_change / 2)\n",
    "\n",
    "            box.attrib['ybr'] = str(float(box.attrib['ybr']) + height_change / 2)\n",
    "            box.attrib['ytl'] = str(float(box.attrib['ytl']) - height_change / 2)\n",
    "\n",
    "            \n"
   ]
  },
  {
   "attachments": {},
   "cell_type": "markdown",
   "metadata": {},
   "source": [
    "---------"
   ]
  },
  {
   "attachments": {},
   "cell_type": "markdown",
   "metadata": {},
   "source": [
    "# Make width always longer than height"
   ]
  },
  {
   "cell_type": "code",
   "execution_count": 569,
   "metadata": {},
   "outputs": [
    {
     "name": "stdout",
     "output_type": "stream",
     "text": [
      "0\n"
     ]
    }
   ],
   "source": [
    "final_image_list = finalroot.findall('image')\n",
    "count = 0\n",
    "\n",
    "for image in final_image_list:\n",
    "    box_list = image.findall('box')\n",
    "    for box in box_list:\n",
    "        # print(box.attrib)\n",
    "        \n",
    "        if box.attrib['label'] == 'terminal':            \n",
    "            boxwidth = float(box.attrib['xbr']) - float(box.attrib['xtl'])\n",
    "            boxheight = - float(box.attrib['ytl']) + float(box.attrib['ybr'])\n",
    "            \n",
    "            if boxwidth < boxheight:\n",
    "                new_angle = float(box.attrib['rotation']) + 90\n",
    "                if new_angle > 360:\n",
    "                    new_angle -= 360\n",
    "\n",
    "                box.attrib['rotation'] = str(new_angle)\n",
    "                box.attrib['xtl'] = str(float(box.attrib['xtl']) - (boxheight - boxwidth)/2)\n",
    "                box.attrib['xbr'] = str(float(box.attrib['xbr']) + (boxheight - boxwidth)/2)\n",
    "                box.attrib['ytl'] = str(float(box.attrib['ytl']) + (boxheight - boxwidth)/2)\n",
    "                box.attrib['ybr'] = str(float(box.attrib['ybr']) - (boxheight - boxwidth)/2)\n",
    "                count += 1\n",
    "                imageswitherror.append(int(image.attrib['id']))\n",
    "                imageswith_rectangleerror.append(int(image.attrib['id']))\n",
    "print(count)"
   ]
  },
  {
   "attachments": {},
   "cell_type": "markdown",
   "metadata": {},
   "source": [
    "------------"
   ]
  },
  {
   "attachments": {},
   "cell_type": "markdown",
   "metadata": {},
   "source": [
    "# Check for TRUNCATED"
   ]
  },
  {
   "cell_type": "code",
   "execution_count": 570,
   "metadata": {},
   "outputs": [
    {
     "name": "stdout",
     "output_type": "stream",
     "text": [
      "770\n"
     ]
    }
   ],
   "source": [
    "final_image_list = finalroot.findall('image')\n",
    "\n",
    "count = 0\n",
    "for image in final_image_list:\n",
    "    box_list = image.findall('box')\n",
    "\n",
    "    for box in box_list:\n",
    "            \n",
    "        if box.attrib['label'] == 'terminal' or box.attrib['label'] == 'vellus':\n",
    "\n",
    "            # Make sure every box has rotation annotation\n",
    "            if 'rotation' not in box.attrib.keys(): \n",
    "                box.attrib['rotation'] = '0.0'\n",
    "\n",
    "            # Find actual coordinates\n",
    "            _,_,x1,y1,x2,y2,x3,y3,x4,y4 = actual_coord(box)\n",
    "\n",
    "            # Check truncated if a coordinate is outside of image\n",
    "            if min(x1, y1, x2, y2, x3, y3, x4, y4) < 0 or max(x1,x2,x3,x4) > 640 or max(y1,y2,y3,y4) > 480:\n",
    "                attribute_list = box.findall('attribute')\n",
    "                for attribute in attribute_list:\n",
    "                    if attribute.attrib['name'] == 'truncated' and attribute.text == 'false':\n",
    "                        count += 1\n",
    "                        attribute.text = 'true'\n",
    "                        imageswitherror.append(int(image.attrib['id']))\n",
    "                        imageswith_truncatederror.append(int(image.attrib['id']))\n",
    "\n",
    "print(count)\n",
    "        "
   ]
  },
  {
   "attachments": {},
   "cell_type": "markdown",
   "metadata": {},
   "source": [
    "--------------"
   ]
  },
  {
   "attachments": {},
   "cell_type": "markdown",
   "metadata": {},
   "source": [
    "# Check Rotation, then empty pores and unmatched hairs"
   ]
  },
  {
   "cell_type": "code",
   "execution_count": 571,
   "metadata": {},
   "outputs": [
    {
     "name": "stdout",
     "output_type": "stream",
     "text": [
      "count:  6755\n",
      "lonehair:  473\n"
     ]
    }
   ],
   "source": [
    "final_image_list = finalroot.findall('image')\n",
    "\n",
    "lonehair = 0\n",
    "count = 0\n",
    "for image in final_image_list:\n",
    "    box_list = image.findall('box')\n",
    "\n",
    "    pore_dic = dict()\n",
    "    for box in box_list:\n",
    "        if box.attrib['label'] == 'pore':\n",
    "             # List all pores in image as unvisited\n",
    "            pore_dic[box] = False\n",
    "\n",
    "\n",
    "\n",
    "    # Iterate through all hair boxes\n",
    "    for box in box_list:\n",
    "        # If terminal/vellus/portion\n",
    "        if box.attrib['label'] in {'terminal', 'vellus', 'portion'}:\n",
    "\n",
    "            # Find actual coordinates\n",
    "            cx,cy,x1,y1,x2,y2,x3,y3,x4,y4 = actual_coord(box)\n",
    "\n",
    "            # Find corresponding pore (two or one coordinates inside pore box)\n",
    "            poreswithtwo_info = set()\n",
    "            poreswithone_info = set()\n",
    "            \n",
    "            for pore in pore_dic.keys():\n",
    "                if (in_pore((x1,y1), pore) and in_pore((x4,y4), pore)): # point 1 and point 4 in pore\n",
    "                    xinpore = (x1+x4)/2\n",
    "                    yinpore = (y1+y4)/2\n",
    "                    poreswithtwo_info.add((pore, xinpore, yinpore))\n",
    "                    pore_dic[pore] = True # mark pore as visited\n",
    "\n",
    "\n",
    "                elif (in_pore((x2,y2), pore) and in_pore((x3,y3), pore)): # point 2 and point 3 in pore\n",
    "                    xinpore = (x2+x3)/2\n",
    "                    yinpore = (y2+y3)/2\n",
    "                    poreswithtwo_info.add((pore, xinpore, yinpore))\n",
    "\n",
    "                    pore_dic[pore] = True # mark pore as visited\n",
    "                \n",
    "                else: # two end points are not in pore\n",
    "                    if in_pore((x1,y1), pore) or in_pore((x4,y4), pore): \n",
    "                        xinpore = (x1+x4)/2 # midpoint that should be in pore\n",
    "                        yinpore = (y1+y4)/2\n",
    "                        poreswithone_info.add((pore, xinpore, yinpore))\n",
    "                        \n",
    "                        pore_dic[pore] = True # mark pore as visited\n",
    "\n",
    "                    if in_pore((x2,y2), pore) or in_pore((x3,y3), pore): \n",
    "                        xinpore = (x2+x3)/2\n",
    "                        yinpore = (y2+y3)/2\n",
    "                        poreswithone_info.add((pore, xinpore, yinpore))\n",
    "                        \n",
    "                        pore_dic[pore] = True # mark pore as visited\n",
    "        \n",
    "\n",
    "            # Fixing Orientation\n",
    "            skipflag = False\n",
    "\n",
    "            if len(poreswithtwo_info) == 1: # porewithtwo considered as priority\n",
    "                poreinfo = poreswithtwo_info.pop()\n",
    "                pore = poreinfo[0]\n",
    "                xinpore = poreinfo[1]\n",
    "                yinpore = poreinfo[2]\n",
    "                \n",
    "            elif len(poreswithtwo_info) > 1:\n",
    "                skipflag = True # ignore that terminal with multiple two-pores\n",
    "\n",
    "            elif len(poreswithone_info) == 1: \n",
    "                poreinfo = poreswithone_info.pop()\n",
    "                pore = poreinfo[0]\n",
    "                xinpore = poreinfo[1]\n",
    "                yinpore = poreinfo[2]\n",
    "                \n",
    "            elif len(poreswithone_info) > 1:\n",
    "                skipflag = True # ignore that terminal with multiple one-pores\n",
    "\n",
    "            else: # no points within any pore (lonely hair)\n",
    "                count += 1\n",
    "                lonehair += 1\n",
    "                imageswitherror.append(int(image.attrib['id']))\n",
    "                imageswith_unmatchederror.append(int(image.attrib['id']))\n",
    "                \n",
    "                skipflag = True # ignore\n",
    "\n",
    "            if not skipflag:\n",
    "                porew = float(pore.attrib['xbr']) - float(pore.attrib['xtl'])\n",
    "                porecx = float(pore.attrib['xbr']) - porew/2\n",
    "                porecy = float(pore.attrib['ybr']) - porew/2\n",
    "                degree_angle = float(box.attrib['rotation'])\n",
    "\n",
    "                if cy < yinpore and degree_angle > 180: # terminal pointing above pore\n",
    "                    box.attrib['rotation'] = str(degree_angle - 180)\n",
    "                    count += 1\n",
    "                    imageswitherror.append(int(image.attrib['id']))\n",
    "                    imageswith_rotationerror.append(int(image.attrib['id']))\n",
    "\n",
    "                    \n",
    "                elif cy > yinpore and degree_angle < 180: # terminal pointing below pore\n",
    "                    box.attrib['rotation'] = str(degree_angle + 180)\n",
    "                    count += 1\n",
    "                    imageswitherror.append(int(image.attrib['id']))\n",
    "                    imageswith_rotationerror.append(int(image.attrib['id']))\n",
    "\n",
    "                    \n",
    "\n",
    "                elif cy == yinpore: # terminal at same level with pore\n",
    "                    if cx > xinpore: # terminal at right of pore\n",
    "                        box.attrib['rotation'] = '180.0'\n",
    "                    else: # terminal at left of pore\n",
    "                        box.attrib['rotation'] = '0.0'\n",
    "    \n",
    "    for pore in pore_dic:\n",
    "        if pore_dic[pore] == False:\n",
    "            count += 1\n",
    "            imageswitherror.append(int(image.attrib['id']))\n",
    "            imageswith_unmatchederror.append(int(image.attrib['id']))\n",
    "            image.remove(pore)\n",
    "\n",
    "print('count: ',count)\n",
    "print('lonehair: ', lonehair)"
   ]
  },
  {
   "attachments": {},
   "cell_type": "markdown",
   "metadata": {},
   "source": [
    "-----------"
   ]
  },
  {
   "attachments": {},
   "cell_type": "markdown",
   "metadata": {},
   "source": [
    "# Cluster, then delete repetition and check iscrowd"
   ]
  },
  {
   "cell_type": "code",
   "execution_count": 572,
   "metadata": {},
   "outputs": [
    {
     "name": "stdout",
     "output_type": "stream",
     "text": [
      "6755\n",
      "3460\n"
     ]
    }
   ],
   "source": [
    "newcount = 0\n",
    "# make a set of all hair boxes with their centroids\n",
    "for image in final_image_list:\n",
    "    box_list = image.findall('box')\n",
    "    hairbox_list = []\n",
    "    grouped_list = []\n",
    "\n",
    "    for box in box_list:\n",
    "        if box.attrib['label'] != 'pore': # if hair box\n",
    "            \n",
    "            # att_list = box.findall('attribute')\n",
    "            # for att in att_list:\n",
    "            #     box.remove(att)\n",
    "\n",
    "            hairbox_list.append(box)\n",
    "    \n",
    "    while hairbox_list:\n",
    "        reference = hairbox_list.pop()\n",
    "        thisgroup = {reference}\n",
    "        for box in hairbox_list:\n",
    "            if are_neighbors(centroidof(box), centroidof(reference)):\n",
    "                thisgroup.add(box)\n",
    "\n",
    "        grouped_list.append(thisgroup)\n",
    "        hairbox_list = [box for box in hairbox_list if box not in thisgroup]\n",
    "        \n",
    "\n",
    "#  CHECK IF TWO BOXES ARE NEARLY SAME\n",
    "    for group in grouped_list:\n",
    "        group = list(group)\n",
    "        pointer1 = 0\n",
    "        for pointer1, box1 in enumerate(group):\n",
    "            for pointer2, box2 in enumerate(group[pointer1+1:]):\n",
    "                if are_same(box1, box2):\n",
    "                    imageswitherror.append(int(image.attrib['id']))\n",
    "                    imageswith_repetitionerror.append(int(image.attrib['id']))\n",
    "                    \n",
    "                    if box1.attrib['label'] != box2.attrib['label']: # if different labels, mostly vellus\n",
    "                        if box1.attrib['label'] == 'terminal':\n",
    "                            image.remove(box1)\n",
    "                        else: # box2 is the terminal\n",
    "                            image.remove(box2)\n",
    "                    else: # both terminals or both velluses\n",
    "                        image.remove(box2) # arbitrary selection                \n",
    "\n",
    "                elif overlap(box1,box2) == True: # both boxes should be isCrowd\n",
    "                    attribute_list = box1.findall('attribute')\n",
    "                    for attribute in attribute_list:\n",
    "                        if attribute.attrib['name'] == 'iscrowd' and attribute.text == 'false':\n",
    "                            newcount += 1\n",
    "                            attribute.text = 'true'\n",
    "                            imageswitherror.append(int(image.attrib['id']))\n",
    "                            imageswith_iscrowderror.append(int(image.attrib['id']))\n",
    "\n",
    "                    \n",
    "                    attribute_list = box2.findall('attribute')\n",
    "                    for attribute in attribute_list:\n",
    "                        if attribute.attrib['name'] == 'iscrowd' and attribute.text == 'false':\n",
    "                            newcount += 1\n",
    "                            attribute.text = 'true'\n",
    "                            imageswitherror.append(int(image.attrib['id']))\n",
    "                            imageswith_iscrowderror.append(int(image.attrib['id']))\n",
    "                            \n",
    "print(count)\n",
    "print(newcount)\n"
   ]
  },
  {
   "attachments": {},
   "cell_type": "markdown",
   "metadata": {},
   "source": [
    "# Histograms"
   ]
  },
  {
   "cell_type": "code",
   "execution_count": 577,
   "metadata": {},
   "outputs": [
    {
     "data": {
      "image/png": "[encoded data removed]",
      "text/plain": [
       "<Figure size 640x480 with 1 Axes>"
      ]
     },
     "metadata": {},
     "output_type": "display_data"
    },
    {
     "data": {
      "image/png": "[encoded data removed]",
      "text/plain": [
       "<Figure size 640x480 with 1 Axes>"
      ]
     },
     "metadata": {},
     "output_type": "display_data"
    },
    {
     "data": {
      "image/png": "[encoded data removed]",
      "text/plain": [
       "<Figure size 640x480 with 1 Axes>"
      ]
     },
     "metadata": {},
     "output_type": "display_data"
    },
    {
     "data": {
      "image/png": "[encoded data removed]",
      "text/plain": [
       "<Figure size 640x480 with 1 Axes>"
      ]
     },
     "metadata": {},
     "output_type": "display_data"
    },
    {
     "data": {
      "image/png": "[encoded data removed]",
      "text/plain": [
       "<Figure size 640x480 with 1 Axes>"
      ]
     },
     "metadata": {},
     "output_type": "display_data"
    },
    {
     "data": {
      "image/png": "[encoded data removed]",
      "text/plain": [
       "<Figure size 640x480 with 1 Axes>"
      ]
     },
     "metadata": {},
     "output_type": "display_data"
    },
    {
     "data": {
      "image/png": "[encoded data removed]",
      "text/plain": [
       "<Figure size 640x480 with 1 Axes>"
      ]
     },
     "metadata": {},
     "output_type": "display_data"
    }
   ],
   "source": [
    "plt.hist(imageswitherror, bins=250)\n",
    "plt.title('All Errors')\n",
    "plt.show()\n",
    "\n",
    "plt.hist(imageswith_rectangleerror, bins=250)\n",
    "plt.title('Rectangle Errors')\n",
    "plt.show()\n",
    "\n",
    "plt.hist(imageswith_iscrowderror, bins=250)\n",
    "plt.title('Iscrowd Errors')\n",
    "plt.show()\n",
    "\n",
    "plt.hist(imageswith_truncatederror, bins=250)\n",
    "plt.title('truncated Errors')\n",
    "plt.show()\n",
    "\n",
    "plt.hist(imageswith_rotationerror, bins=250)\n",
    "plt.title('rotation Errors')\n",
    "plt.show()\n",
    "\n",
    "plt.hist(imageswith_unmatchederror, bins=250)\n",
    "plt.title('Unmatched Errors')\n",
    "plt.show()\n",
    "\n",
    "plt.hist(imageswith_repetitionerror, bins=250)\n",
    "plt.title('Repetition Errors')\n",
    "plt.show()\n"
   ]
  },
  {
   "attachments": {},
   "cell_type": "markdown",
   "metadata": {},
   "source": [
    "# Write to new file"
   ]
  },
  {
   "cell_type": "code",
   "execution_count": 574,
   "metadata": {},
   "outputs": [],
   "source": [
    "# new_xml = ET.tostring(finalroot)\n",
    "# with open('batch0_stage2.xml', 'wb') as f:\n",
    "#     f.write(new_xml)"
   ]
  }
 ],
 "metadata": {
  "kernelspec": {
   "display_name": "Python 3",
   "language": "python",
   "name": "python3"
  },
  "language_info": {
   "codemirror_mode": {
    "name": "ipython",
    "version": 3
   },
   "file_extension": ".py",
   "mimetype": "text/x-python",
   "name": "python",
   "nbconvert_exporter": "python",
   "pygments_lexer": "ipython3",
   "version": "3.11.3"
  },
  "orig_nbformat": 4
 },
 "nbformat": 4,
 "nbformat_minor": 2
}
