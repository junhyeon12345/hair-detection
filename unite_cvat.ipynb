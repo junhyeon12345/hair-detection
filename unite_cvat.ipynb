{
 "cells": [
  {
   "attachments": {},
   "cell_type": "markdown",
   "metadata": {},
   "source": [
    "# Unite two CVAT annotation files\n",
    "\n",
    "Prioritizes one annotation over the other."
   ]
  },
  {
   "cell_type": "code",
   "execution_count": 1,
   "metadata": {},
   "outputs": [],
   "source": [
    "import xml.etree.ElementTree as ET"
   ]
  },
  {
   "cell_type": "code",
   "execution_count": 2,
   "metadata": {},
   "outputs": [
    {
     "data": {
      "text/plain": [
       "<Element 'annotations' at 0x000002E506F2F420>"
      ]
     },
     "execution_count": 2,
     "metadata": {},
     "output_type": "execute_result"
    }
   ],
   "source": [
    "tessertree = ET.parse('C:/Users/junhy/Documents/vscode/test100.xml')\n",
    "tesserroot = tessertree.getroot()\n",
    "tesserroot"
   ]
  },
  {
   "cell_type": "code",
   "execution_count": 3,
   "metadata": {},
   "outputs": [
    {
     "data": {
      "text/plain": [
       "<Element 'annotations' at 0x000002E50767CB80>"
      ]
     },
     "execution_count": 3,
     "metadata": {},
     "output_type": "execute_result"
    }
   ],
   "source": [
    "grttree = ET.parse('C:/Users/junhy/Documents/vscode/batch0_0719.xml')\n",
    "grtroot = grttree.getroot()\n",
    "grtroot"
   ]
  },
  {
   "cell_type": "code",
   "execution_count": 4,
   "metadata": {},
   "outputs": [
    {
     "name": "stdout",
     "output_type": "stream",
     "text": [
      "0  found in both.\n",
      "1  found in both.\n",
      "2  found in both.\n",
      "3  found in both.\n",
      "4  found in both.\n",
      "5  found in both.\n",
      "6  found in both.\n",
      "7  found in both.\n",
      "8  found in both.\n",
      "9  found in both.\n",
      "10  found in both.\n",
      "11  found in both.\n",
      "12  found in both.\n",
      "13  found in both.\n",
      "14  found in both.\n",
      "15  found in both.\n",
      "16  found in both.\n",
      "17  found in both.\n",
      "18  found in both.\n",
      "19  found in both.\n",
      "20  found in both.\n",
      "21  found in both.\n",
      "22  found in both.\n",
      "23  found in both.\n",
      "24  found in both.\n",
      "25  found in both.\n",
      "26  found in both.\n",
      "27  found in both.\n",
      "28  found in both.\n",
      "29  found in both.\n",
      "30  found in both.\n",
      "31  found in both.\n",
      "32  found in both.\n",
      "33  found in both.\n",
      "34  found in both.\n",
      "35  found in both.\n",
      "36  found in both.\n",
      "37  found in both.\n",
      "38  found in both.\n",
      "39  found in both.\n",
      "40  found in both.\n",
      "41  found in both.\n",
      "42  found in both.\n",
      "43  found in both.\n",
      "44  found in both.\n",
      "45  found in both.\n",
      "46  found in both.\n",
      "47  found in both.\n",
      "48  found in both.\n",
      "49  found in both.\n",
      "50  found in both.\n",
      "51  found in both.\n",
      "52  found in both.\n",
      "53  found in both.\n",
      "54  found in both.\n",
      "55  found in both.\n",
      "56  found in both.\n",
      "57  found in both.\n",
      "58  found in both.\n",
      "59  found in both.\n",
      "60  found in both.\n",
      "61  found in both.\n",
      "62  found in both.\n",
      "63  found in both.\n",
      "64  found in both.\n",
      "65  found in both.\n",
      "66  found in both.\n",
      "67  found in both.\n",
      "68  found in both.\n",
      "69  found in both.\n",
      "70  found in both.\n",
      "71  found in both.\n",
      "72  found in both.\n",
      "73  found in both.\n",
      "74  found in both.\n",
      "75  found in both.\n",
      "76  found in both.\n",
      "77  found in both.\n",
      "78  found in both.\n",
      "79  found in both.\n",
      "80  found in both.\n",
      "81  found in both.\n",
      "82  found in both.\n",
      "83  found in both.\n",
      "84  found in both.\n",
      "85  found in both.\n",
      "86  found in both.\n",
      "87  found in both.\n",
      "88  found in both.\n",
      "89  found in both.\n",
      "90  found in both.\n",
      "91  found in both.\n",
      "92  found in both.\n",
      "93  found in both.\n",
      "94  found in both.\n",
      "95  found in both.\n",
      "96  found in both.\n",
      "97  found in both.\n",
      "98  found in both.\n",
      "99  found in both.\n"
     ]
    }
   ],
   "source": [
    "tesser_imagelist = tesserroot.findall('image')\n",
    "grt_imagelist = grtroot.findall('image')\n",
    "\n",
    "for ind, grt_image in enumerate(grt_imagelist):\n",
    "    id = grt_image.attrib['id']\n",
    "    for tesser_image in tesser_imagelist:\n",
    "        if id == tesser_image.attrib['id']:\n",
    "            print(id, ' found in both.')\n",
    "            # overwrite grt_image as tesser_image\n",
    "            grtroot.remove(grt_image)\n",
    "            grtroot.append(tesser_image)\n",
    "            break\n",
    "    \n",
    "    "
   ]
  },
  {
   "cell_type": "code",
   "execution_count": 5,
   "metadata": {},
   "outputs": [
    {
     "name": "stdout",
     "output_type": "stream",
     "text": [
      "True\n"
     ]
    }
   ],
   "source": [
    "# check if change worked\n",
    "\n",
    "grttree2 = ET.parse('C:/Users/junhy/Documents/vscode/batch0_0719.xml')\n",
    "grtroot2 = grttree2.getroot\n",
    "print(grtroot != grtroot2)"
   ]
  },
  {
   "cell_type": "code",
   "execution_count": 6,
   "metadata": {},
   "outputs": [],
   "source": [
    "new_xml = ET.tostring(grtroot)\n",
    "with open('united_annotations.xml', 'wb') as f:\n",
    "    f.write(new_xml)"
   ]
  }
 ],
 "metadata": {
  "kernelspec": {
   "display_name": "Python 3",
   "language": "python",
   "name": "python3"
  },
  "language_info": {
   "codemirror_mode": {
    "name": "ipython",
    "version": 3
   },
   "file_extension": ".py",
   "mimetype": "text/x-python",
   "name": "python",
   "nbconvert_exporter": "python",
   "pygments_lexer": "ipython3",
   "version": "3.11.3"
  },
  "orig_nbformat": 4
 },
 "nbformat": 4,
 "nbformat_minor": 2
}
